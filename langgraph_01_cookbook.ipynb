{
 "cells": [
  {
   "cell_type": "code",
   "execution_count": 1,
   "metadata": {},
   "outputs": [
    {
     "data": {
      "text/plain": [
       "True"
      ]
     },
     "execution_count": 1,
     "metadata": {},
     "output_type": "execute_result"
    }
   ],
   "source": [
    "# %pip install langfuse\n",
    "# %pip install langchain langgraph langchain_openai langchain_community\n",
    "\n",
    "import dotenv\n",
    "\n",
    "dotenv.load_dotenv()"
   ]
  },
  {
   "cell_type": "markdown",
   "metadata": {},
   "source": [
    "## Create Agent\n",
    "\n",
    "Start by creating a StateGraph. A StateGraph object defines our chatbot's structure as a state machine. We will add nodes to represent the LLM and functions the chatbot can call, and edges to specify how the bot transitions between these functions."
   ]
  },
  {
   "cell_type": "code",
   "execution_count": 2,
   "metadata": {},
   "outputs": [],
   "source": [
    "from typing import Annotated\n",
    "\n",
    "from langchain_openai import ChatOpenAI\n",
    "from langchain_core.messages import HumanMessage\n",
    "from typing_extensions import TypedDict\n",
    "\n",
    "from langgraph.graph import StateGraph\n",
    "from langgraph.graph.message import add_messages\n",
    "\n",
    "llm = ChatOpenAI(model = \"gpt-4o-mini\", temperature = 0.2)"
   ]
  },
  {
   "cell_type": "markdown",
   "metadata": {},
   "source": [
    "### define the langgraph"
   ]
  },
  {
   "cell_type": "code",
   "execution_count": 3,
   "metadata": {},
   "outputs": [],
   "source": [
    "\n",
    "class State(TypedDict):\n",
    "    messages: Annotated[list, add_messages]\n",
    "\n",
    "def chatbot(state: State):\n",
    "    return {\"messages\": [llm.invoke(state[\"messages\"])]}\n",
    "\n",
    "graph_builder = StateGraph(State)\n",
    "graph_builder.add_node(\"chatbot\", chatbot)\n",
    "graph_builder.set_entry_point(\"chatbot\")\n",
    "graph_builder.set_finish_point(\"chatbot\")\n",
    "graph = graph_builder.compile()"
   ]
  },
  {
   "cell_type": "markdown",
   "metadata": {},
   "source": [
    "### Execute the graph"
   ]
  },
  {
   "cell_type": "code",
   "execution_count": 12,
   "metadata": {},
   "outputs": [
    {
     "name": "stdout",
     "output_type": "stream",
     "text": [
      "{'chatbot': {'messages': [AIMessage(content=\"LangGraph and LangFuse are tools designed to enhance the development and deployment of language models and applications that utilize natural language processing (NLP). While they serve different purposes, they can work together to create a more robust ecosystem for building language-based applications. Here's a brief overview of each and how they can complement each other:\\n\\n### LangGraph\\n- **Purpose**: LangGraph is typically focused on providing a framework for building and managing language models and their interactions. It may offer features like model training, evaluation, and deployment, as well as tools for managing data and workflows related to language processing tasks.\\n- **Functionality**: It may include capabilities for visualizing language model performance, managing datasets, and integrating various NLP components into a cohesive system.\\n\\n### LangFuse\\n- **Purpose**: LangFuse is often geared towards enhancing the user experience and operational aspects of language applications. It may provide tools for monitoring, analytics, and user interaction, helping developers understand how their language models are performing in real-world scenarios.\\n- **Functionality**: It might include features for tracking user engagement, analyzing feedback, and optimizing model performance based on real-time data.\\n\\n### Working Together\\n1. **Integration**: LangGraph can be used to develop and deploy language models, while LangFuse can monitor and analyze their performance in production. This integration allows developers to iterate on their models based on user feedback and performance metrics.\\n\\n2. **Feedback Loop**: By using LangFuse to gather insights on how users interact with the language models developed in LangGraph, developers can refine their models and improve user experience. This creates a feedback loop that enhances both model accuracy and user satisfaction.\\n\\n3. **Data Management**: LangGraph can manage the datasets used for training language models, while LangFuse can help in understanding how these models perform with real user data, leading to better data curation and model training strategies.\\n\\n4. **Deployment and Monitoring**: After deploying a model using LangGraph, LangFuse can provide ongoing monitoring and analytics, ensuring that the model remains effective and relevant as user needs evolve.\\n\\nIn summary, while LangGraph focuses on the development and management of language models, LangFuse enhances the operational aspects, providing insights and analytics that can drive continuous improvement. Together, they create a comprehensive framework for building, deploying, and optimizing language-based applications.\", additional_kwargs={'refusal': None}, response_metadata={'token_usage': {'completion_tokens': 469, 'prompt_tokens': 17, 'total_tokens': 486, 'completion_tokens_details': {'accepted_prediction_tokens': 0, 'audio_tokens': 0, 'reasoning_tokens': 0, 'rejected_prediction_tokens': 0}, 'prompt_tokens_details': {'audio_tokens': 0, 'cached_tokens': 0}}, 'model_name': 'gpt-4o-mini-2024-07-18', 'system_fingerprint': 'fp_b8bc95a0ac', 'id': 'chatcmpl-BDvxCTrjCEezD85xxJCXwritBw1Ke', 'finish_reason': 'stop', 'logprobs': None}, id='run-492c561e-2e93-4c20-abc9-bdc4c2a4feca-0', usage_metadata={'input_tokens': 17, 'output_tokens': 469, 'total_tokens': 486, 'input_token_details': {'audio': 0, 'cache_read': 0}, 'output_token_details': {'audio': 0, 'reasoning': 0}})]}}\n"
     ]
    }
   ],
   "source": [
    "from langfuse.callback import CallbackHandler\n",
    "from pprint import pprint\n",
    "\n",
    "langfuse_handler = CallbackHandler()\n",
    "for s in graph.stream({\"messages\": [HumanMessage(content = \"how langgraph and langfuse work together?\")]},\n",
    "                      config={\"callbacks\": [langfuse_handler]}):\n",
    "    pprint(s)"
   ]
  },
  {
   "cell_type": "markdown",
   "metadata": {},
   "source": [
    "## Draw the Graph"
   ]
  },
  {
   "cell_type": "code",
   "execution_count": 10,
   "metadata": {},
   "outputs": [
    {
     "data": {
      "image/png": "[encoded data removed]",
      "text/plain": [
       "<IPython.core.display.Image object>"
      ]
     },
     "metadata": {},
     "output_type": "display_data"
    }
   ],
   "source": [
    "from IPython.display import Image, display\n",
    "from langchain_core.runnables.graph import CurveStyle, MermaidDrawMethod, NodeStyles\n",
    "\n",
    "display(\n",
    "    Image(\n",
    "        graph.get_graph().draw_mermaid_png(\n",
    "            draw_method=MermaidDrawMethod.API,\n",
    "        )\n",
    "    )\n",
    ")\n"
   ]
  },
  {
   "cell_type": "code",
   "execution_count": null,
   "metadata": {},
   "outputs": [],
   "source": []
  }
 ],
 "metadata": {
  "kernelspec": {
   "display_name": ".venv",
   "language": "python",
   "name": "python3"
  },
  "language_info": {
   "codemirror_mode": {
    "name": "ipython",
    "version": 3
   },
   "file_extension": ".py",
   "mimetype": "text/x-python",
   "name": "python",
   "nbconvert_exporter": "python",
   "pygments_lexer": "ipython3",
   "version": "3.12.3"
  }
 },
 "nbformat": 4,
 "nbformat_minor": 2
}

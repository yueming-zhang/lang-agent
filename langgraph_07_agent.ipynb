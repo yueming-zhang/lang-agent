{
 "cells": [
  {
   "cell_type": "code",
   "execution_count": 1,
   "metadata": {},
   "outputs": [],
   "source": [
    "from langchain_openai import ChatOpenAI\n",
    "from langchain_core.tools import tool\n",
    "from pydantic import BaseModel, Field\n",
    "from typing_extensions import TypedDict, Literal, Annotated, List\n",
    "import operator\n",
    "from langgraph.graph import StateGraph, START, END, MessagesState\n",
    "from langgraph.types import Send\n",
    "from IPython.display import display, Image, Markdown\n",
    "from langchain_core.messages import HumanMessage, SystemMessage, ToolMessage\n",
    "from pprint import pprint\n",
    "from langfuse.callback import CallbackHandler\n",
    "\n",
    "llm = ChatOpenAI(model = \"gpt-4o-mini\", temperature = 0.2)\n",
    "langfuse_handler = CallbackHandler()"
   ]
  },
  {
   "cell_type": "markdown",
   "metadata": {},
   "source": [
    "## Create Tools"
   ]
  },
  {
   "cell_type": "code",
   "execution_count": 2,
   "metadata": {},
   "outputs": [],
   "source": [
    "@tool\n",
    "def multiply(a: int, b: int) -> int:\n",
    "    \"\"\"Multiply a and b. \"\n",
    "    Args:\n",
    "        a: The first number.\n",
    "        b: The second number.\"\n",
    "    \"\"\"\n",
    "\n",
    "    return a * b\n",
    "\n",
    "@tool\n",
    "def add(a: int, b: int) -> int:\n",
    "    \"\"\"Add a and b. \"\n",
    "    Args:\n",
    "        a: The first number.\n",
    "        b: The second number.\"\n",
    "    \"\"\"\n",
    "    return a + b\n",
    "@tool\n",
    "def divide(a: int, b: int) -> int:\n",
    "    \"\"\"Divide a and b. \"\n",
    "    Args:\n",
    "        a: The first number.\n",
    "        b: The second number.\"\n",
    "    \"\"\"\n",
    "\n",
    "    return a / b\n",
    "\n",
    "tools = [add, multiply, divide]\n",
    "tools_by_name = {tool.name: tool for tool in tools}\n",
    "llm_with_tools = llm.bind_tools(tools)"
   ]
  },
  {
   "cell_type": "markdown",
   "metadata": {},
   "source": [
    "## Create functions"
   ]
  },
  {
   "cell_type": "code",
   "execution_count": 3,
   "metadata": {},
   "outputs": [],
   "source": [
    "def llm_call(state:MessagesState):\n",
    "    \"\"\"LLM decides whether to call a tool or not.\"\"\"\n",
    "\n",
    "    return {\n",
    "        \"messages\":[\n",
    "            llm_with_tools.invoke(\n",
    "                [\n",
    "                    SystemMessage(content=\"You are a helpful assistant tasked with performing arithmetic on a set of inputs\")\n",
    "                ]\n",
    "                + state[\"messages\"]\n",
    "            )\n",
    "        ]\n",
    "    }\n",
    "\n",
    "def tool_node(state: dict):\n",
    "    result = []\n",
    "    for tool_call in state['messages'][-1].tool_calls:\n",
    "        tool = tools_by_name[tool_call[\"name\"]]\n",
    "        observation = tool.invoke(tool_call[\"args\"])\n",
    "        result.append(ToolMessage(content=observation, tool_call_id=tool_call[\"id\"]))\n",
    "    return {\"messages\": result}\n",
    "\n",
    "def shoud_continue(state: MessagesState):\n",
    "    \"\"\"Decide if we should continue the loop or stop based upon whether the LLM made a tool call\"\"\"\n",
    "    \n",
    "    messages = state[\"messages\"]\n",
    "    last_message = messages[-1]\n",
    "\n",
    "    if last_message.tool_calls:\n",
    "        return \"Action\"\n",
    "    return END"
   ]
  },
  {
   "cell_type": "markdown",
   "metadata": {},
   "source": [
    "## Create the Graph"
   ]
  },
  {
   "cell_type": "code",
   "execution_count": 4,
   "metadata": {},
   "outputs": [
    {
     "data": {
      "image/png": "[encoded data removed]",
      "text/plain": [
       "<IPython.core.display.Image object>"
      ]
     },
     "metadata": {},
     "output_type": "display_data"
    }
   ],
   "source": [
    "builder = StateGraph(MessagesState)\n",
    "\n",
    "builder.add_node(\"environment\", tool_node)\n",
    "builder.add_node(\"llm_call\", llm_call)\n",
    "\n",
    "builder.add_edge(START, \"llm_call\")\n",
    "builder.add_conditional_edges(\"llm_call\", \n",
    "                              shoud_continue, \n",
    "                              {\n",
    "                                  \"Action\": \"environment\",\n",
    "                                  END: END\n",
    "                              },)\n",
    "builder.add_edge(\"environment\", \"llm_call\")\n",
    "\n",
    "agent = builder.compile()\n",
    "\n",
    "display(Image(agent.get_graph().draw_mermaid_png()))\n"
   ]
  },
  {
   "cell_type": "code",
   "execution_count": 5,
   "metadata": {},
   "outputs": [
    {
     "name": "stdout",
     "output_type": "stream",
     "text": [
      "================================\u001b[1m Human Message \u001b[0m=================================\n",
      "\n",
      "Add 3 and 4. Then multiply the result by 8. And finally divide the result by 2.\n",
      "==================================\u001b[1m Ai Message \u001b[0m==================================\n",
      "Tool Calls:\n",
      "  add (call_bdMsjWpG0HCSqbcibzog188g)\n",
      " Call ID: call_bdMsjWpG0HCSqbcibzog188g\n",
      "  Args:\n",
      "    a: 3\n",
      "    b: 4\n",
      "=================================\u001b[1m Tool Message \u001b[0m=================================\n",
      "\n",
      "7\n",
      "==================================\u001b[1m Ai Message \u001b[0m==================================\n",
      "Tool Calls:\n",
      "  multiply (call_CF3GYIGWgvfWM4NqmF0ploVj)\n",
      " Call ID: call_CF3GYIGWgvfWM4NqmF0ploVj\n",
      "  Args:\n",
      "    a: 7\n",
      "    b: 8\n",
      "  divide (call_M5ED3bnwe7N75dgyjK9nU9JH)\n",
      " Call ID: call_M5ED3bnwe7N75dgyjK9nU9JH\n",
      "  Args:\n",
      "    a: 7\n",
      "    b: 2\n",
      "=================================\u001b[1m Tool Message \u001b[0m=================================\n",
      "\n",
      "56\n",
      "=================================\u001b[1m Tool Message \u001b[0m=================================\n",
      "\n",
      "3.5\n",
      "==================================\u001b[1m Ai Message \u001b[0m==================================\n",
      "\n",
      "The result of adding 3 and 4 is 7. \n",
      "\n",
      "Then, multiplying 7 by 8 gives 56. \n",
      "\n",
      "Finally, dividing 7 by 2 results in 3.5.\n"
     ]
    }
   ],
   "source": [
    "messages = [HumanMessage(content=\"Add 3 and 4. Then multiply the result by 8. And finally divide the result by 2.\")]\n",
    "state = agent.invoke({\"messages\": messages}, config={\"callbacks\": [langfuse_handler]})\n",
    "for m in state[\"messages\"]:\n",
    "    m.pretty_print()"
   ]
  },
  {
   "cell_type": "markdown",
   "metadata": {},
   "source": [
    "## We can use prebuilt Agent"
   ]
  },
  {
   "cell_type": "code",
   "execution_count": 5,
   "metadata": {},
   "outputs": [
    {
     "data": {
      "image/png": "[encoded data removed]",
      "text/plain": [
       "<IPython.core.display.Image object>"
      ]
     },
     "metadata": {},
     "output_type": "display_data"
    }
   ],
   "source": [
    "from langgraph.prebuilt import create_react_agent\n",
    "pre_build_agent = create_react_agent(llm_with_tools, tools = tools)\n",
    "display(Image(pre_build_agent.get_graph().draw_mermaid_png()))\n"
   ]
  },
  {
   "cell_type": "code",
   "execution_count": 25,
   "metadata": {},
   "outputs": [
    {
     "name": "stdout",
     "output_type": "stream",
     "text": [
      "================================\u001b[1m Human Message \u001b[0m=================================\n",
      "\n",
      "Add 500 and 4\n",
      "==================================\u001b[1m Ai Message \u001b[0m==================================\n",
      "Tool Calls:\n",
      "  add (call_gf5lsw5z2nlEUQu0vQGHTOmr)\n",
      " Call ID: call_gf5lsw5z2nlEUQu0vQGHTOmr\n",
      "  Args:\n",
      "    a: 500\n",
      "    b: 4\n",
      "=================================\u001b[1m Tool Message \u001b[0m=================================\n",
      "Name: add\n",
      "\n",
      "504\n",
      "==================================\u001b[1m Ai Message \u001b[0m==================================\n",
      "\n",
      "The sum of 500 and 4 is 504.\n"
     ]
    }
   ],
   "source": [
    "messages = [HumanMessage(content=\"Add 500 and 4\")]\n",
    "state = pre_build_agent.invoke({\"messages\": messages}, config={\"callbacks\": [langfuse_handler]})\n",
    "\n",
    "for m in state[\"messages\"]:\n",
    "    m.pretty_print()"
   ]
  },
  {
   "cell_type": "code",
   "execution_count": 26,
   "metadata": {},
   "outputs": [
    {
     "name": "stdout",
     "output_type": "stream",
     "text": [
      "================================\u001b[1m Human Message \u001b[0m=================================\n",
      "\n",
      "Add 500 and 4 and then divide the result by 2\n",
      "==================================\u001b[1m Ai Message \u001b[0m==================================\n",
      "Tool Calls:\n",
      "  add (call_HIlxJJErgkZElEilk6eMzvDA)\n",
      " Call ID: call_HIlxJJErgkZElEilk6eMzvDA\n",
      "  Args:\n",
      "    a: 500\n",
      "    b: 4\n",
      "=================================\u001b[1m Tool Message \u001b[0m=================================\n",
      "Name: add\n",
      "\n",
      "504\n",
      "==================================\u001b[1m Ai Message \u001b[0m==================================\n",
      "Tool Calls:\n",
      "  divide (call_97DT50Imrkc15mPEADCBVMlK)\n",
      " Call ID: call_97DT50Imrkc15mPEADCBVMlK\n",
      "  Args:\n",
      "    a: 504\n",
      "    b: 2\n",
      "=================================\u001b[1m Tool Message \u001b[0m=================================\n",
      "Name: divide\n",
      "\n",
      "252.0\n",
      "==================================\u001b[1m Ai Message \u001b[0m==================================\n",
      "\n",
      "The result of adding 500 and 4 is 504, and dividing that by 2 gives 252.0.\n"
     ]
    }
   ],
   "source": [
    "messages = [HumanMessage(content=\"Add 500 and 4 and then divide the result by 2\")]\n",
    "state = pre_build_agent.invoke({\"messages\": messages}, config={\"callbacks\": [langfuse_handler]})\n",
    "\n",
    "for m in state[\"messages\"]:\n",
    "    m.pretty_print()"
   ]
  }
 ],
 "metadata": {
  "kernelspec": {
   "display_name": ".venv",
   "language": "python",
   "name": "python3"
  },
  "language_info": {
   "codemirror_mode": {
    "name": "ipython",
    "version": 3
   },
   "file_extension": ".py",
   "mimetype": "text/x-python",
   "name": "python",
   "nbconvert_exporter": "python",
   "pygments_lexer": "ipython3",
   "version": "3.12.3"
  }
 },
 "nbformat": 4,
 "nbformat_minor": 2
}

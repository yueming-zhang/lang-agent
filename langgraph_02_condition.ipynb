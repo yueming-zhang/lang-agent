{
 "cells": [
  {
   "cell_type": "code",
   "execution_count": 1,
   "metadata": {},
   "outputs": [],
   "source": [
    "from langchain_openai import ChatOpenAI\n",
    "llm = ChatOpenAI(model = \"gpt-4o-mini\", temperature = 0.2)"
   ]
  },
  {
   "cell_type": "markdown",
   "metadata": {},
   "source": [
    "## define a Search Query"
   ]
  },
  {
   "cell_type": "code",
   "execution_count": 2,
   "metadata": {},
   "outputs": [
    {
     "name": "stdout",
     "output_type": "stream",
     "text": [
      "Calcium CT score and high cholesterol relationship\n",
      "This query is relevant because it seeks to understand the connection between calcium scoring in coronary arteries and cholesterol levels, which is important for assessing cardiovascular risk.\n"
     ]
    }
   ],
   "source": [
    "from pydantic import BaseModel, Field\n",
    "\n",
    "class SearchQuery(BaseModel):\n",
    "    search_query: str = Field(None, description=\"Query that is optimized for web search\")\n",
    "    justification: str = Field(None, justification=\"Why this query is relevant to the user's request\")\n",
    "\n",
    "structured_llm = llm.with_structured_output(SearchQuery)\n",
    "\n",
    "output = structured_llm.invoke(\"How does Calcium CT score related to high cholestrerol?\")\n",
    "print(output.search_query)\n",
    "print(output.justification)"
   ]
  },
  {
   "cell_type": "markdown",
   "metadata": {},
   "source": [
    "## define tools"
   ]
  },
  {
   "cell_type": "code",
   "execution_count": 3,
   "metadata": {},
   "outputs": [
    {
     "data": {
      "text/plain": [
       "[{'name': 'multiply',\n",
       "  'args': {'a': 2, 'b': 3},\n",
       "  'id': 'call_e5cMbWkB4SXuG0m1FrEMyIfb',\n",
       "  'type': 'tool_call'}]"
      ]
     },
     "execution_count": 3,
     "metadata": {},
     "output_type": "execute_result"
    }
   ],
   "source": [
    "def multiply(a: int, b: int) -> int:\n",
    "    return a * b\n",
    "\n",
    "llm_with_tools = llm.bind_tools([multiply])\n",
    "msg = llm_with_tools.invoke(\"multiply 2 and 3\")\n",
    "msg.tool_calls"
   ]
  },
  {
   "cell_type": "code",
   "execution_count": 4,
   "metadata": {},
   "outputs": [],
   "source": [
    "from typing_extensions import TypedDict\n",
    "\n",
    "class State(TypedDict):\n",
    "    topic: str\n",
    "    joke: str\n",
    "    improved_joke: str\n",
    "    final_joke: str\n",
    "\n",
    "\n",
    "def generate_joke(state: State) -> str:\n",
    "    msg = llm.invoke(f\"Write me a joke about {state['topic']}\")\n",
    "    return {\"joke\": msg.content}\n",
    "\n",
    "def improve_joke(state: State) -> str:\n",
    "    msg = llm.invoke(f\"Make this joke funnier by adding wordplay: {state['joke']}\")\n",
    "    return {\"improved_joke\": msg.content}\n",
    "\n",
    "def polish_joke(state: State) -> str:\n",
    "    msg = llm.invoke(f\"Add a surprising twist to this joke: {state['improved_joke']}\")\n",
    "    return {\"final_joke\": msg.content}\n",
    "\n",
    "def check_punchline(state: State) -> str:\n",
    "    if \"?\" in state[\"joke\"] or \"!\" in state[\"joke\"]:\n",
    "        return \"Pass\"\n",
    "    return \"Fail\""
   ]
  },
  {
   "cell_type": "markdown",
   "metadata": {},
   "source": [
    "## define lang graph"
   ]
  },
  {
   "cell_type": "code",
   "execution_count": 6,
   "metadata": {},
   "outputs": [
    {
     "data": {
      "image/png": "[encoded data removed]",
      "text/plain": [
       "<IPython.core.display.Image object>"
      ]
     },
     "metadata": {},
     "output_type": "display_data"
    }
   ],
   "source": [
    "from langgraph.graph import StateGraph, START, END\n",
    "from IPython.display import display, Image\n",
    "\n",
    "workflow = StateGraph(State)\n",
    "workflow.add_node(\"generate_joke\", generate_joke)\n",
    "workflow.add_node(\"improve_joke\", improve_joke)\n",
    "workflow.add_node(\"polish_joke\", polish_joke)\n",
    "\n",
    "workflow.add_edge(START, \"generate_joke\")\n",
    "workflow.add_conditional_edges(\"generate_joke\", check_punchline, {\"Pass\": \"improve_joke\", \"Fail\": END})\n",
    "workflow.add_edge(\"improve_joke\", \"polish_joke\")\n",
    "workflow.add_edge(\"polish_joke\", END)\n",
    "\n",
    "chain = workflow.compile()\n",
    "display(Image(chain.get_graph().draw_mermaid_png()))"
   ]
  },
  {
   "cell_type": "code",
   "execution_count": 7,
   "metadata": {},
   "outputs": [
    {
     "name": "stdout",
     "output_type": "stream",
     "text": [
      "{'final_joke': 'Why was the cat sitting on the computer? \\n'\n",
      "               '\\n'\n",
      "               'Because it wanted to keep an eye on the mouse and make sure it '\n",
      "               'didn’t click away! But little did it know, the mouse was '\n",
      "               'actually a secret agent, and the cat was about to become the '\n",
      "               'unwitting sidekick in a high-stakes cyber heist!',\n",
      " 'improved_joke': 'Why was the cat sitting on the computer? \\n'\n",
      "                  '\\n'\n",
      "                  'Because it wanted to keep an eye on the mouse and make sure '\n",
      "                  'it didn’t click away!',\n",
      " 'joke': 'Why was the cat sitting on the computer?\\n'\n",
      "         '\\n'\n",
      "         'Because it wanted to keep an eye on the mouse!',\n",
      " 'topic': 'cats'}\n"
     ]
    }
   ],
   "source": [
    "from pprint import pprint\n",
    "from langfuse.callback import CallbackHandler\n",
    "langfuse_handler = CallbackHandler()\n",
    "\n",
    "\n",
    "state = chain.invoke({\"topic\": \"cats\"}, config={\"callbacks\": [langfuse_handler]})\n",
    "pprint(state)"
   ]
  },
  {
   "cell_type": "code",
   "execution_count": null,
   "metadata": {},
   "outputs": [],
   "source": []
  }
 ],
 "metadata": {
  "kernelspec": {
   "display_name": ".venv",
   "language": "python",
   "name": "python3"
  },
  "language_info": {
   "codemirror_mode": {
    "name": "ipython",
    "version": 3
   },
   "file_extension": ".py",
   "mimetype": "text/x-python",
   "name": "python",
   "nbconvert_exporter": "python",
   "pygments_lexer": "ipython3",
   "version": "3.12.3"
  }
 },
 "nbformat": 4,
 "nbformat_minor": 2
}

{
 "cells": [
  {
   "cell_type": "code",
   "execution_count": 1,
   "metadata": {},
   "outputs": [],
   "source": [
    "from langchain_openai import ChatOpenAI\n",
    "from pydantic import BaseModel, Field\n",
    "from typing_extensions import TypedDict, Literal, Annotated, List\n",
    "import operator\n",
    "from langgraph.graph import StateGraph, START, END\n",
    "from langgraph.types import Send\n",
    "from IPython.display import display, Image, Markdown\n",
    "from langchain_core.messages import HumanMessage, SystemMessage\n",
    "from pprint import pprint\n",
    "from langfuse.callback import CallbackHandler\n",
    "\n",
    "llm = ChatOpenAI(model = \"gpt-4o-mini\", temperature = 0.2)\n",
    "langfuse_handler = CallbackHandler()"
   ]
  },
  {
   "cell_type": "markdown",
   "metadata": {},
   "source": [
    "## Create Evaluator"
   ]
  },
  {
   "cell_type": "code",
   "execution_count": 2,
   "metadata": {},
   "outputs": [],
   "source": [
    "class Feedback(BaseModel):\n",
    "    grade: Literal[\"funny\", \"not funny\"] = Field(description=\"Decide if the joke is funny or not\")\n",
    "    feedback: str = Field(description=\"If the joke is not funny, provide feedback on how to improve it\")\n",
    "\n",
    "evaluator = llm.with_structured_output(Feedback)\n",
    "\n",
    "class State(TypedDict):\n",
    "    joke: str\n",
    "    topic: str\n",
    "    feedback: str\n",
    "    funny_or_not: str"
   ]
  },
  {
   "cell_type": "markdown",
   "metadata": {},
   "source": [
    "## Create Generator"
   ]
  },
  {
   "cell_type": "code",
   "execution_count": 6,
   "metadata": {},
   "outputs": [],
   "source": [
    "def llm_call_generator(state: State):\n",
    "    '''LLM generate a joke'''\n",
    "\n",
    "    if state.get(\"feedback\"):\n",
    "        msg = llm.invoke(f\"Write a joke about {state['topic']} but take into account the feedback: {state['feedback']}. \")\n",
    "    else:\n",
    "        msg = llm.invoke(f\"Write a joke about {state['topic']}. \")\n",
    "\n",
    "    return {\"joke\": msg.content}\n",
    "\n",
    "def llm_call_evaluator(state: State):\n",
    "    '''LLM evaluate the joke'''\n",
    "    grade = evaluator.invoke(f\"Grade the joke {state[\"joke\"]}\")\n",
    "    return {\"funny_or_not\": grade.grade, \"feedback\": grade.feedback}\n",
    "\n",
    "def route_joke(state:State):\n",
    "    '''Route the joke to the appropriate state'''\n",
    "    if state[\"funny_or_not\"] == \"funny\":\n",
    "        return \"Accepted\"\n",
    "    elif state[\"funny_or_not\"] == \"not funny\":\n",
    "        return \"Rejected + Feedback\"\n"
   ]
  },
  {
   "cell_type": "markdown",
   "metadata": {},
   "source": [
    "## Create the Graph"
   ]
  },
  {
   "cell_type": "code",
   "execution_count": 7,
   "metadata": {},
   "outputs": [
    {
     "data": {
      "image/png": "[encoded data removed]",
      "text/plain": [
       "<IPython.core.display.Image object>"
      ]
     },
     "metadata": {},
     "output_type": "display_data"
    }
   ],
   "source": [
    "builder = StateGraph(State)\n",
    "\n",
    "builder.add_node(\"llm_call_generator\", llm_call_generator)\n",
    "builder.add_node(\"llm_call_evaluator\", llm_call_evaluator)\n",
    "\n",
    "builder.add_edge(START, \"llm_call_generator\")\n",
    "builder.add_edge(\"llm_call_generator\", \"llm_call_evaluator\")\n",
    "builder.add_conditional_edges(\n",
    "    \"llm_call_evaluator\",\n",
    "    route_joke,\n",
    "    {\n",
    "        \"Accepted\": END,\n",
    "        \"Rejected + Feedback\": \"llm_call_generator\"\n",
    "    }\n",
    ")\n",
    "\n",
    "workflow = builder.compile()\n",
    "\n",
    "display(Image(workflow.get_graph().draw_mermaid_png()))\n"
   ]
  },
  {
   "cell_type": "code",
   "execution_count": 9,
   "metadata": {},
   "outputs": [
    {
     "name": "stdout",
     "output_type": "stream",
     "text": [
      "{'feedback': '',\n",
      " 'funny_or_not': 'funny',\n",
      " 'joke': 'Why did the customer break up with their partner after ordering from '\n",
      "         'Amazon? \\n'\n",
      "         '\\n'\n",
      "         'Because they realized they could get same-day delivery on everything '\n",
      "         'they needed—except for emotional support!',\n",
      " 'topic': 'Amazon'}\n"
     ]
    }
   ],
   "source": [
    "state = workflow.invoke({\"topic\": \"Amazon\"}, config={\"callbacks\": [langfuse_handler]})\n",
    "pprint(state)"
   ]
  },
  {
   "cell_type": "code",
   "execution_count": null,
   "metadata": {},
   "outputs": [],
   "source": []
  }
 ],
 "metadata": {
  "kernelspec": {
   "display_name": ".venv",
   "language": "python",
   "name": "python3"
  },
  "language_info": {
   "codemirror_mode": {
    "name": "ipython",
    "version": 3
   },
   "file_extension": ".py",
   "mimetype": "text/x-python",
   "name": "python",
   "nbconvert_exporter": "python",
   "pygments_lexer": "ipython3",
   "version": "3.12.3"
  }
 },
 "nbformat": 4,
 "nbformat_minor": 2
}

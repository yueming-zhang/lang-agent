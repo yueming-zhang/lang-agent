{
 "cells": [
  {
   "cell_type": "code",
   "execution_count": 1,
   "metadata": {},
   "outputs": [],
   "source": [
    "from langchain_openai import ChatOpenAI\n",
    "from pydantic import BaseModel, Field\n",
    "from typing_extensions import TypedDict, Literal\n",
    "from langgraph.graph import StateGraph, START, END\n",
    "from IPython.display import display, Image\n",
    "from langchain_core.messages import HumanMessage, SystemMessage\n",
    "from pprint import pprint\n",
    "from langfuse.callback import CallbackHandler\n",
    "\n",
    "llm = ChatOpenAI(model = \"gpt-4o-mini\", temperature = 0.2)\n",
    "langfuse_handler = CallbackHandler()"
   ]
  },
  {
   "cell_type": "code",
   "execution_count": 2,
   "metadata": {},
   "outputs": [],
   "source": [
    "class Route(BaseModel):\n",
    "    step: Literal[\"joke\", \"story\", \"poem\"] = Field(\n",
    "        None, description=\"The next step in the routing process\"\n",
    "    )\n",
    "\n",
    "router = llm.with_structured_output(Route)\n",
    "\n",
    "class State(TypedDict):\n",
    "    input: str\n",
    "    decision: str\n",
    "    output: str\n",
    "\n",
    "def create_joke(state:State):\n",
    "    result = llm.invoke(state[\"input\"])\n",
    "    return {\"output\": result.content}\n",
    "\n",
    "def create_story(state:State):\n",
    "    result = llm.invoke(state[\"input\"])\n",
    "    return {\"output\": result.content}\n",
    "\n",
    "def create_poem(state:State):\n",
    "    result = llm.invoke(state[\"input\"])\n",
    "    return {\"output\": result.content}\n",
    "\n",
    "def llm_router(state: State):\n",
    "    decision = router.invoke(\n",
    "        [\n",
    "            SystemMessage(content = \"Route the input to story, joke or poem based on the user's request\"),\n",
    "            HumanMessage(content = state[\"input\"]),\n",
    "        ]\n",
    "    )\n",
    "\n",
    "    return {\"decision\": decision.step}\n",
    "\n",
    "def route_decision(state: State):\n",
    "    if state[\"decision\"] == \"joke\":\n",
    "        return \"create_joke\"# create_joke(state)\n",
    "    elif state[\"decision\"] == \"story\":\n",
    "        return \"create_story\" #create_story(state)\n",
    "    elif state[\"decision\"] == \"poem\":\n",
    "        return \"create_poem\" #create_poem(state)\n",
    "    else:\n",
    "        raise ValueError(f\"Invalid decision: {state['decision']}\")"
   ]
  },
  {
   "cell_type": "code",
   "execution_count": 5,
   "metadata": {},
   "outputs": [
    {
     "data": {
      "image/png": "[encoded data removed]",
      "text/plain": [
       "<IPython.core.display.Image object>"
      ]
     },
     "metadata": {},
     "output_type": "display_data"
    }
   ],
   "source": [
    "router_builder = StateGraph(State)\n",
    "\n",
    "router_builder.add_node(\"llm_router\", llm_router)\n",
    "router_builder.add_edge(START, \"llm_router\")\n",
    "\n",
    "router_builder.add_node(\"create_story\", create_story)\n",
    "router_builder.add_node(\"create_poem\", create_poem)\n",
    "router_builder.add_node(\"create_joke\", create_joke)\n",
    "\n",
    "router_builder.add_conditional_edges(\"llm_router\", route_decision, \n",
    "                                     {\"create_joke\": \"create_joke\", \"create_story\": \"create_story\", \"create_poem\": \"create_poem\"}\n",
    ")\n",
    "\n",
    "router_builder.add_edge(\"create_story\", END)\n",
    "router_builder.add_edge(\"create_joke\", END)\n",
    "router_builder.add_edge(\"create_poem\", END)\n",
    "router_graph = router_builder.compile()\n",
    "\n",
    "display(Image(router_graph.get_graph().draw_mermaid_png()))"
   ]
  },
  {
   "cell_type": "code",
   "execution_count": 6,
   "metadata": {},
   "outputs": [
    {
     "name": "stdout",
     "output_type": "stream",
     "text": [
      "{'decision': 'joke',\n",
      " 'input': 'write me a joke about AirBnb',\n",
      " 'output': 'Why did the scarecrow get an Airbnb?\\n'\n",
      "           '\\n'\n",
      "           'Because he wanted to be outstanding in his field!'}\n"
     ]
    }
   ],
   "source": [
    "state = router_graph.invoke({\"input\": \"write me a joke about AirBnb\"}, config={\"callbacks\": [langfuse_handler]})\n",
    "pprint(state)"
   ]
  },
  {
   "cell_type": "code",
   "execution_count": 7,
   "metadata": {},
   "outputs": [],
   "source": [
    "state = router_graph.invoke({\"input\": \"write me a short poem about AirBnb\"}, config={\"callbacks\": [langfuse_handler]})"
   ]
  },
  {
   "cell_type": "code",
   "execution_count": 8,
   "metadata": {},
   "outputs": [
    {
     "name": "stdout",
     "output_type": "stream",
     "text": [
      "{'decision': 'poem',\n",
      " 'input': 'write me a short poem about AirBnb',\n",
      " 'output': 'In cozy nooks where travelers roam,  \\n'\n",
      "           \"A stranger's space becomes a home.  \\n\"\n",
      "           'With whispered tales in every room,  \\n'\n",
      "           'And laughter shared, dispelling gloom.  \\n'\n",
      "           '\\n'\n",
      "           'From city lights to mountain views,  \\n'\n",
      "           'Each listing holds a world to choose.  \\n'\n",
      "           'A kitchen warm, a garden bright,  \\n'\n",
      "           'Airbnb, where dreams take flight.  \\n'\n",
      "           '\\n'\n",
      "           'So pack your bags, let wanderlust steer,  \\n'\n",
      "           'In every stay, new memories near.  \\n'\n",
      "           'With open doors and hearts so free,  \\n'\n",
      "           'The world feels small, through Airbnb.  '}\n"
     ]
    }
   ],
   "source": [
    "pprint(state)"
   ]
  }
 ],
 "metadata": {
  "kernelspec": {
   "display_name": ".venv",
   "language": "python",
   "name": "python3"
  },
  "language_info": {
   "codemirror_mode": {
    "name": "ipython",
    "version": 3
   },
   "file_extension": ".py",
   "mimetype": "text/x-python",
   "name": "python",
   "nbconvert_exporter": "python",
   "pygments_lexer": "ipython3",
   "version": "3.12.3"
  }
 },
 "nbformat": 4,
 "nbformat_minor": 2
}
